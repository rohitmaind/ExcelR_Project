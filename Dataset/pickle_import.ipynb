{
 "cells": [
  {
   "cell_type": "code",
   "execution_count": 1,
   "id": "a4bc0082-7984-499d-87d9-a3049a17a41f",
   "metadata": {},
   "outputs": [],
   "source": [
    "import pickle"
   ]
  },
  {
   "cell_type": "code",
   "execution_count": 2,
   "id": "efd9423c-62df-4d21-bb49-cd908b436fa6",
   "metadata": {},
   "outputs": [],
   "source": [
    "load_model = pickle.load(open('bankruptcy_model.pkl','rb'))"
   ]
  },
  {
   "cell_type": "code",
   "execution_count": 3,
   "id": "acb99f88-bb95-491e-93bf-e7fdfc0e375e",
   "metadata": {},
   "outputs": [
    {
     "name": "stderr",
     "output_type": "stream",
     "text": [
      "d:\\Career DS\\Data Science\\1. DS Project - 1\\model_deploytment\\Lib\\site-packages\\sklearn\\base.py:493: UserWarning: X does not have valid feature names, but StandardScaler was fitted with feature names\n",
      "  warnings.warn(\n"
     ]
    },
    {
     "data": {
      "text/plain": [
       "array([1])"
      ]
     },
     "execution_count": 3,
     "metadata": {},
     "output_type": "execute_result"
    }
   ],
   "source": [
    "load_model.predict([[1.0,0.0,0.5,1.0,0.5,0.0]])"
   ]
  },
  {
   "cell_type": "code",
   "execution_count": 4,
   "id": "3ebf5d0b-0dd4-4855-8b7c-8751c780dadb",
   "metadata": {},
   "outputs": [
    {
     "name": "stderr",
     "output_type": "stream",
     "text": [
      "d:\\Career DS\\Data Science\\1. DS Project - 1\\model_deploytment\\Lib\\site-packages\\sklearn\\base.py:493: UserWarning: X does not have valid feature names, but StandardScaler was fitted with feature names\n",
      "  warnings.warn(\n"
     ]
    },
    {
     "data": {
      "text/plain": [
       "array([1])"
      ]
     },
     "execution_count": 4,
     "metadata": {},
     "output_type": "execute_result"
    }
   ],
   "source": [
    "load_model.predict([[1.0,0.0,1.0,0.5,1.0,0.0]])# 0.0\t1.0\t0.0\t0.0\t0.0\t1.0\t"
   ]
  },
  {
   "cell_type": "code",
   "execution_count": 5,
   "id": "5cf118ef-6e7f-4796-974a-30a6c115e60a",
   "metadata": {},
   "outputs": [],
   "source": [
    "def Prediction(industrial_risk,management_risk,financial_flexibility,credibility,competitiveness,operating_risk):\n",
    "    result = load_model.predict([[industrial_risk,management_risk,financial_flexibility,credibility,competitiveness,operating_risk]])\n",
    "    return result"
   ]
  },
  {
   "cell_type": "code",
   "execution_count": 6,
   "id": "48ff7cd5-21bc-4460-9dac-3699d24cefe5",
   "metadata": {},
   "outputs": [
    {
     "name": "stderr",
     "output_type": "stream",
     "text": [
      "d:\\Career DS\\Data Science\\1. DS Project - 1\\model_deploytment\\Lib\\site-packages\\sklearn\\base.py:493: UserWarning: X does not have valid feature names, but StandardScaler was fitted with feature names\n",
      "  warnings.warn(\n"
     ]
    },
    {
     "data": {
      "text/plain": [
       "array([1])"
      ]
     },
     "execution_count": 6,
     "metadata": {},
     "output_type": "execute_result"
    }
   ],
   "source": [
    "Prediction(1.0,0.0,1.0,0.5,1.0,0.0)"
   ]
  }
 ],
 "metadata": {
  "kernelspec": {
   "display_name": "Python 3 (ipykernel)",
   "language": "python",
   "name": "python3"
  },
  "language_info": {
   "codemirror_mode": {
    "name": "ipython",
    "version": 3
   },
   "file_extension": ".py",
   "mimetype": "text/x-python",
   "name": "python",
   "nbconvert_exporter": "python",
   "pygments_lexer": "ipython3",
   "version": "3.11.4"
  }
 },
 "nbformat": 4,
 "nbformat_minor": 5
}
